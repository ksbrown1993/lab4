{
  "nbformat": 4,
  "nbformat_minor": 0,
  "metadata": {
    "colab": {
      "name": "Dynamics of Axisymmetric Membrane Playground.ipynb",
      "provenance": [],
      "collapsed_sections": [],
      "include_colab_link": true
    },
    "kernelspec": {
      "name": "python3",
      "display_name": "Python 3"
    }
  },
  "cells": [
    {
      "cell_type": "markdown",
      "metadata": {
        "id": "view-in-github",
        "colab_type": "text"
      },
      "source": [
        "<a href=\"https://colab.research.google.com/github/ksbrown1993/lab4/blob/master/Dynamics_of_Axisymmetric_Membrane_Playground.ipynb\" target=\"_parent\"><img src=\"https://colab.research.google.com/assets/colab-badge.svg\" alt=\"Open In Colab\"/></a>"
      ]
    },
    {
      "cell_type": "code",
      "metadata": {
        "id": "oLlny_I1idsu",
        "colab_type": "code",
        "colab": {}
      },
      "source": [
        "#Authors: Katie Brown, Philipp Suhrcke, Quentin Vagne"
      ],
      "execution_count": 0,
      "outputs": []
    },
    {
      "cell_type": "markdown",
      "metadata": {
        "id": "Al8gTqIslcIy",
        "colab_type": "text"
      },
      "source": [
        "Test the system of equations and the linear system with a simple sphere. Create a linear system of the form: Ax = b. "
      ]
    },
    {
      "cell_type": "code",
      "metadata": {
        "id": "BatXESufeSm2",
        "colab_type": "code",
        "colab": {}
      },
      "source": [
        "import numpy as np\n",
        "import matplotlib.pyplot as plt\n",
        "import numpy\n",
        "import sys"
      ],
      "execution_count": 0,
      "outputs": []
    },
    {
      "cell_type": "code",
      "metadata": {
        "id": "NEnVYSaTDPgZ",
        "colab_type": "code",
        "colab": {}
      },
      "source": [
        "#Here is the code to import the values of Css, Cthth, and christ from files given in binary format\n",
        "# The files Css, Cthth, and Gamma contain respectively Css, Cthth and the christoffel symbol\n",
        "# Here are the info for this particular example:\n",
        "# It is sampled  on a uniform grid with N=999 points\n",
        "# It goes from s=0 to s=5.82147363745928 (<- this is what you will put in h)\n",
        "# The parameter values are:\n",
        "# dp=2 c0=0 eta=0.3 eta_b=0.7 zeta_prime=0 zeta_tilde=1 gamma=1 kappa=1\n",
        "# The goal is to solve for vs and vn, and you should find approximately vn=0 and vs=vs_example\n",
        "Css_example=np.fromfile('Css',np.float64)\n",
        "Cthth_example=np.fromfile('Cthth',np.float64)\n",
        "christ_example=np.fromfile('Gamma',np.float64)\n",
        "vs_example=np.fromfile('vs',np.float64)"
      ],
      "execution_count": 0,
      "outputs": []
    },
    {
      "cell_type": "code",
      "metadata": {
        "id": "MQBS5Zmle7Kz",
        "colab_type": "code",
        "colab": {}
      },
      "source": [
        "# set Parameters\n",
        "\n",
        "N = len(Css_example)        # number of points along the sphere\n",
        "kappa = 1       # bending rigidity\n",
        "C0 = 0          # spontaneous curvature\n",
        "zeta_1 = 0      # active force terms\n",
        "zeta_tilde = 1\n",
        "R1 = 2           # radius of sphere\n",
        "R2 = 2\n",
        "Css = Css_example   # curvature along s\n",
        "Cthth = Cthth_example # curvature along theta\n",
        "Css_ghost = np.array([Css[2],Css[1],Css[-2],Css[-3]])\n",
        "Cthth_ghost = np.array([Cthth[2],Cthth[1],Cthth[-2],Cthth[-3]])\n",
        "gamma = 1       # tension constant\n",
        "eta = .3        # shear\n",
        "eta_b = 0.7     # bulk\n",
        "P = 2           # pressure\n",
        "h = 5.82147363745928 # h = L in this case\n",
        "du = 1/(N-1)     # distance between two points on the line u 0->1\n",
        "pi = np.linspace(0,np.pi,N)      # split sphere into N equidistant points\n",
        "christ = christ_example  # Christoffelsymbol\n",
        "christ[0] = 0                       # poles are not really 0, but they are not used at the poles anyway\n",
        "christ[N-1] = 0 \n",
        "\n",
        "first_pole = 0\n",
        "first_point = 1\n",
        "second_point = 2\n",
        "second_to_last_point = N-3\n",
        "last_point = N-2\n",
        "second_pole = N-1\n"
      ],
      "execution_count": 0,
      "outputs": []
    },
    {
      "cell_type": "code",
      "metadata": {
        "id": "tPwAS1b1fCp7",
        "colab_type": "code",
        "colab": {}
      },
      "source": [
        "# function definitions\n",
        "def calculate_temp_a(i):\n",
        "   temp_a = 1/(12*du*h)*((eta+eta_b)*Css[i] + (eta_b-eta)*Cthth[i])\n",
        "   return temp_a\n",
        "\n",
        "def calculate_temp_b(i):\n",
        "   temp_b = 2/(3*du*h)*((eta+eta_b)*Css[i] + (eta_b-eta)*Cthth[i])\n",
        "   return temp_b\n",
        "\n",
        "def calculate_temp_c(i):\n",
        "  temp_c = christ[i]*((eta+eta_b)*Cthth[i] + (eta_b-eta)*Css[i])  \n",
        "  return temp_c\n",
        "\n",
        "def calculate_temp_mu(i):\n",
        "  temp_mu = ((eta+eta_b)*((Css[i])**2 + (Cthth[i])**2) + 2*(eta_b-eta)*Cthth[i]*Css[i])\n",
        "  return temp_mu\n",
        "\n",
        "def calculate_temp_d(i):\n",
        "  temp_d = 1/(12*du*h)*2*Cthth[i]*(eta_b+eta)\n",
        "  return temp_d\n",
        "\n",
        "def calculate_temp_e(i):\n",
        "  temp_e = 2/(3*du*h)*2**Cthth[i]*(eta_b+eta)\n",
        "  return temp_e\n",
        "\n",
        "def calculate_temp_f(i):\n",
        "  temp_f = 2*Cthth[i]*(eta_b-eta)*christ[i] \n",
        "  return temp_f\n",
        "\n",
        "def calculate_temp_nu(i):\n",
        "  temp_nu= 2*Cthth[i]*((eta+eta_b)*Css[i] + (eta_b-eta)*Cthth[i])\n",
        "  return temp_nu\n",
        "\n",
        "def calculate_temp_phi(i):\n",
        "  temp_phi= 4*eta_b*(Css[i])**2 \n",
        "  return temp_phi\n",
        "\n",
        "def calculate_temp_k(i):\n",
        "  temp_k= 2*(2/(3*du*h))*4*eta_b*Css[i]\n",
        "  return temp_k\n",
        "\n",
        "def calculate_temp_j(i):\n",
        "  temp_j =  2/(12*du*h)*4*eta_b*Css[i]\n",
        "  return temp_j\n",
        "\n",
        "def calculate_temp_M(i):\n",
        "  temp_M = (2*Css[i]*(zeta_1+zeta_tilde)+gamma)*2*Css[i] - Css[i]**2*(4*zeta_tilde+2*kappa*C0) - 8/3*kappa*dsdsCss\n",
        "  return temp_M\n",
        "\n",
        "def calculate_temp_L(i):\n",
        "  temp_L = ((Css[i]+Cthth[i])*(zeta_1+zeta_tilde) + gamma)*(Css[i]+Cthth[i]) - Css[i]*Cthth[i]*(4*zeta_tilde+2*kappa*C0) \\\n",
        "                - kappa/2 * (Css[i]+Cthth[i])*(Css[i]-Cthth[i])**2 - kappa*((dsdsCss+((Cthth[i]-Css[i])*(christ[i]**2+Css[i]*Cthth[i]) \\\n",
        "                +christ[i]*dsCss))+christ[i]*(dsCss+christ[i]*(Css[i]-Cthth[i])))\n",
        "  return temp_L\n",
        "\n",
        "def calculate_temp_K(i):\n",
        "  temp_K = 2*Cthth[i]*(gamma+(zeta_1-zeta_tilde-kappa*C0)*(Css[i]+Cthth[i])+kappa/2 * (Css[i]+Cthth[i])**2 + Css[i]*(2*zeta_tilde+kappa*C0 \\\n",
        "                -kappa*(Css[i]+Cthth[i]))) - 2*christ[i]*kappa*(dsCss+christ[i]*(Css[i]-Cthth[i]))\n",
        "  return temp_K\n",
        "\n",
        "def calculate_dsCss_first_point(i):\n",
        "  dsCss = (1/(12*du)*Css_ghost[1] - 2/(3*du)*Css[i-1] + 2/(3*du)*Css[i+1] -1/(12*du)*Css[i+2])/h \n",
        "  return dsCss\n",
        "def calculate_dsCss_last_point(i):\n",
        "  dsCss = (1/(12*du)*Css[i-2] - 2/(3*du)*Css[i-1] + 2/(3*du)*Css[i+1] -1/(12*du)*Css_ghost[2])/h\n",
        "  return dsCss\n",
        "def calculate_dsCss(i):\n",
        "  dsCss = (1/(12*du)*Css[i-2] - 2/(3*du)*Css[i-1] + 2/(3*du)*Css[i+1] -1/(12*du)*Css[i+2])/h  \n",
        "  return dsCss\n",
        "\n",
        "def calculate_dsdsCss_first_pole(i):\n",
        "  dsdsCss = (-1/(12*du**2)*Css_ghost[0] + 4/(3*du**2)*Css_ghost[1] - 5/(2*du**2)*Css[i] + 4/(3*du**2)*Css[i+1] - 1/(12*du**2)*Css[i+2])/(h**2)\n",
        "  return dsdsCss\n",
        "def calculate_dsdsCss_first_point(i):\n",
        "  dsdsCss = (-1/(12*du**2)*Css_ghost[1] + 4/(3*du**2)*Css[i-1] - 5/(2*du**2)*Css[i] + 4/(3*du**2)*Css[i+1] - 1/(12*du**2)*Css[i+2])/(h**2)\n",
        "  return dsdsCss\n",
        "def calculate_dsdsCss_last_point(i):\n",
        "  dsdsCss = (-1/(12*du**2)*Css[i-2] + 4/(3*du**2)*Css[i-1] - 5/(2*du**2)*Css[i] + 4/(3*du**2)*Css[i+1] - 1/(12*du**2)*Css_ghost[2])/(h**2)\n",
        "  return dsdsCss\n",
        "def calculate_dsdsCss(i):\n",
        "  dsdsCss = (-1/(12*du**2)*Css[i-2] + 4/(3*du**2)*Css[i-1] - 5/(2*du**2)*Css[i] + 4/(3*du**2)*Css[i+1] - 1/(12*du**2)*Css[i+2])/(h**2)\n",
        "  return dsdsCss\n"
      ],
      "execution_count": 0,
      "outputs": []
    },
    {
      "cell_type": "markdown",
      "metadata": {
        "id": "5pKNLziyoIFR",
        "colab_type": "text"
      },
      "source": [
        ""
      ]
    },
    {
      "cell_type": "code",
      "metadata": {
        "id": "A3LmJnU7eoc6",
        "colab_type": "code",
        "outputId": "ca3a0f85-9d49-410c-a1e2-54ac346a36dc",
        "colab": {
          "base_uri": "https://localhost:8080/",
          "height": 329
        }
      },
      "source": [
        "# create matrix A and the vector b with parameters\n",
        "A = np.zeros([2*N-2,2*N-2])\n",
        "b = np.zeros([2*N-2])\n",
        "\n",
        "####Note that elif is faster than if statements\n",
        "####Brainstorm/research ideas how to vectorize and speed up computation time\n",
        "####When N=5000, takes 7 seconds local\n",
        "####When N=7500, takes 20 seconds local\n",
        "####When N=9000, takes 36 seconds local\n",
        "####When N=10000, take 50 seconds local\n",
        "####When N=15000, takes 4.5 min local\n",
        "#Complexity is O(2^N) — Exponential due to recursiveness\n",
        "\n",
        "for i in range(N):\n",
        "    # calculaQte the parameters\n",
        "    temp_a = calculate_temp_a(i)\n",
        "    temp_b = calculate_temp_b(i)\n",
        "    temp_c = calculate_temp_c(i) \n",
        "    temp_mu = calculate_temp_mu(i)\n",
        "    temp_d = calculate_temp_d(i)\n",
        "    temp_e = calculate_temp_e(i)\n",
        "    temp_f = calculate_temp_f(i) \n",
        "    temp_nu = calculate_temp_nu(i)\n",
        "    temp_phi = calculate_temp_phi(i) \n",
        "    temp_k = calculate_temp_k(i) \n",
        "    temp_j = calculate_temp_j(i)\n",
        "\n",
        "    if i == first_pole:\n",
        "      dsdsCss = calculate_dsdsCss_first_pole(i) \n",
        "      temp_M = calculate_temp_M(i)    \n",
        "      A[i,[i, i+1, i+3]] = [temp_phi, temp_k, -temp_j]\n",
        "      b[i] = P-temp_M\n",
        "\n",
        "    elif i == first_point: \n",
        "      dsCss = calculate_dsCss_first_point(i)\n",
        "      dsdsCss = calculate_dsdsCss_first_point(i)\n",
        "      temp_L = calculate_temp_L(i)      \n",
        "      temp_K = calculate_temp_K(i)\n",
        "      A[2*i-1,[2*i-1, 2*i, 2*i+1, 2*i+3]] = [temp_c - temp_a, temp_mu, temp_b, -temp_a]\n",
        "      A[2*i  ,[2*i-1, 2*i, 2*i+1, 2*i+3]] = [temp_f - temp_d, temp_nu, temp_e, -temp_d]\n",
        "      b[2*i-1] = P - temp_L\n",
        "      b[2*i] = P-temp_K\n",
        "\n",
        "    elif i == second_point:\n",
        "      dsCss = calculate_dsCss(i)\n",
        "      dsdsCss = calculate_dsdsCss(i)\n",
        "      temp_L = calculate_temp_L(i)      \n",
        "      temp_K = calculate_temp_K(i)\n",
        "      A[2*i-1,[2*i-3, 2*i-1, 2*i, 2*i+1, 2*i+3]] = [-temp_b, temp_c, temp_mu, temp_b, -temp_a]\n",
        "      A[2*i  ,[2*i-3, 2*i-1, 2*i, 2*i+1, 2*i+3]] = [-temp_e, temp_f, temp_nu, temp_e, -temp_d]\n",
        "      b[2*i-1] = P - temp_L\n",
        "      b[2*i] = P-temp_K\n",
        "\n",
        "    elif (i > second_point) and (i < second_to_last_point):\n",
        "      dsCss = calculate_dsCss(i)\n",
        "      dsdsCss = calculate_dsdsCss(i)\n",
        "      temp_L = calculate_temp_L(i)      \n",
        "      temp_K = calculate_temp_K(i)\n",
        "      A[2*i-1,[2*i-5, 2*i-3, 2*i-1, 2*i, 2*i+1, 2*i+3]] = [temp_a, -temp_b, temp_c, temp_mu, temp_b, -temp_a]\n",
        "      A[2*i  ,[2*i-5, 2*i-3, 2*i-1, 2*i, 2*i+1, 2*i+3]] = [temp_d, -temp_e, temp_f, temp_nu, temp_e, -temp_d]\n",
        "      b[2*i-1] = P - temp_L\n",
        "      b[2*i] = P-temp_K\n",
        "\n",
        "    elif i == second_to_last_point:\n",
        "      dsCss = calculate_dsCss(i)\n",
        "      dsdsCss = calculate_dsdsCss(i)\n",
        "      temp_L = calculate_temp_L(i)      \n",
        "      temp_K = calculate_temp_K(i)\n",
        "      A[2*i-1,[2*i-5, 2*i-3, 2*i-1, 2*i, 2*i+1]] = [temp_a, -temp_b, temp_c, temp_mu, temp_b]\n",
        "      A[2*i  ,[2*i-5, 2*i-3, 2*i-1, 2*i, 2*i+1]] = [temp_d, -temp_e, temp_f, temp_nu, temp_e]\n",
        "      b[2*i-1] = P - temp_L\n",
        "      b[2*i] = P-temp_K\n",
        "\n",
        "    elif i == last_point:\n",
        "      dsCss = calculate_dsCss_last_point(i)\n",
        "      dsdsCss = calculate_dsdsCss_last_point(i)\n",
        "      temp_L = calculate_temp_L(i)      \n",
        "      temp_K = calculate_temp_K(i)\n",
        "      A[2*i-1,[2*i-5, 2*i-3, 2*i-1, 2*i]] = [temp_a, -temp_b, temp_c + temp_a, temp_mu]\n",
        "      A[2*i  ,[2*i-5, 2*i-3, 2*i-1, 2*i]] = [temp_d, -temp_e, temp_f + temp_d, temp_nu]\n",
        "      b[2*i-1] = P - temp_L\n",
        "      b[2*i] = P-temp_K\n",
        "   \n",
        "    elif i == second_pole:\n",
        "      A[2*i-1,0] = 1\n",
        "      A[2*i-1,2*i-1] = -1\n",
        "    else:\n",
        "      pass\n",
        "  \n",
        "x = np.linalg.solve(A,b)\n",
        "print(b)\n",
        "\n",
        "v_n = x[::2] #select every other point to extract v_n from x\n",
        "v_n = np.append(v_n, x[-1])\n",
        "v_s = np.zeros(N)   # at the poles v_s is 0\n",
        "v_s[1:len(v_s)-1] = x[1:len(x)-2:2] #select every other point to extract v_s from x\n",
        "plt.scatter(np.arange(0,N),vs_example)\n",
        "plt.scatter(np.arange(0,len(v_n)),v_n)\n",
        "plt.scatter(np.arange(0,len(v_s)),v_s)\n",
        "plt.legend([\"vs given\", \"vn sim\", \"vs sim\"], loc =\"upper left\")"
      ],
      "execution_count": 0,
      "outputs": [
        {
          "output_type": "stream",
          "text": [
            "[-1.781149   -1.94374354 -1.78111471 ... -1.94374354 -1.78111471\n",
            "  0.        ]\n"
          ],
          "name": "stdout"
        },
        {
          "output_type": "execute_result",
          "data": {
            "text/plain": [
              "<matplotlib.legend.Legend at 0x7f59c8fc62e8>"
            ]
          },
          "metadata": {
            "tags": []
          },
          "execution_count": 5
        },
        {
          "output_type": "display_data",
          "data": {
            "image/png": "[encoded data removed]",
            "text/plain": [
              "<Figure size 432x288 with 1 Axes>"
            ]
          },
          "metadata": {
            "tags": [],
            "needs_background": "light"
          }
        }
      ]
    },
    {
      "cell_type": "markdown",
      "metadata": {
        "id": "InH6oF-DrXm4",
        "colab_type": "text"
      },
      "source": [
        "The next one is the same code but written in a different way."
      ]
    },
    {
      "cell_type": "code",
      "metadata": {
        "id": "GH_TbI_AiYiZ",
        "colab_type": "code",
        "outputId": "7d3c615c-cc1d-4fc3-8d54-52ec11646a43",
        "colab": {
          "base_uri": "https://localhost:8080/",
          "height": 282
        }
      },
      "source": [
        "ds = h/(N-1)\n",
        "\n",
        "# create matrix A and the vector b with parameters\n",
        "A = np.zeros([2*N-2,2*N-2])\n",
        "b = np.zeros([2*N-2])\n",
        "\n",
        "for i in range(N):\n",
        "    # for the first pole\n",
        "    if i == 0: \n",
        "        A[0,0] = 4*eta_b*(Css[0])**2    # Phi_0\n",
        "        A[0,1] = 2*(2/(3*ds))*4*eta_b*Css[0] # k_0\n",
        "        A[0,3] = -2/(12*ds)*4*eta_b*Css[0] # j_0\n",
        "        dsdsCss = -1/(12*ds**2)*Css_ghost[0] + 4/(3*ds**2)*Css_ghost[1] - 5/(2*ds**2)*Css[0] + 4/(3*ds**2)*Css[1] - 1/(12*ds**2)*Css[2]\n",
        "        b[0] = P-(2*Css[0]*(zeta_1+zeta_tilde)+gamma)*2*Css[0] + Css[0]**2*(4*zeta_tilde+2*kappa*C0) + 8/3*kappa*dsdsCss\n",
        "    # calculate the parameters\n",
        "    temp_a = 1/(12*ds)*((eta+eta_b)*Css[i] + (eta_b-eta)*Cthth[i])\n",
        "    temp_b = 2/(3*ds)*((eta+eta_b)*Css[i] + (eta_b-eta)*Cthth[i])\n",
        "    temp_c = christ[i]*((eta+eta_b)*Cthth[i] + (eta_b-eta)*Css[i])  ########should it be christ[1] or christ[i]\n",
        "    temp_mu = ((eta+eta_b)*((Css[i])**2 + (Cthth[i])**2) + 2*(eta_b-eta)*Cthth[i]*Css[i])\n",
        "    \n",
        "    temp_d = 1/(12*ds)*2*Cthth[i]*(eta_b+eta)\n",
        "    temp_e = 2/(3*ds)*2**Cthth[i]*(eta_b+eta)\n",
        "    temp_f = 2*Cthth[i]*(eta_b-eta)*christ[i]  ########should it be christ[1] or christ[i]\n",
        "    temp_nu = 2*Cthth[i]*((eta+eta_b)*Css[i] + (eta_b-eta)*Cthth[i])\n",
        "    \n",
        "    # first point\n",
        "    if i == 1:\n",
        "        # Normal force balance\n",
        "        dsCss = 1/(12*ds)*Css_ghost[1] - 2/(3*ds)*Css[0] + 2/(3*ds)*Css[2] -1/(12*ds)*Css[3] ########should it be Css_ghost[0] or Css_ghost[1]??\n",
        "        dsdsCss = -1/(12*ds**2)*Css_ghost[1] + 4/(3*ds**2)*Css[0] - 5/(2*ds**2)*Css[1] + 4/(3*ds**2)*Css[2] - 1/(12*ds**2)*Css[3] ########should it be Css_ghost[0] or Css_ghost[1]??\n",
        "        temp_L = ((Css[1]+Cthth[1])*(zeta_1+zeta_tilde) + gamma)*(Css[1]+Cthth[1]) - Css[1]*Cthth[1]*(4*zeta_tilde+2*kappa*C0) \\\n",
        "                - kappa/2 * (Css[1]+Cthth[1])*(Css[1]-Cthth[1])**2 - kappa*((dsdsCss+((Cthth[1]-Css[1])*(christ[1]**2+Css[1]*Cthth[1]) \\\n",
        "                +christ[1]*dsCss))+christ[1]*(dsCss+christ[1]*(Css[1]-Cthth[1])))\n",
        "        A[1,1] = (temp_c-temp_a)\n",
        "        A[1,2] = temp_mu\n",
        "        A[1,3] = temp_b\n",
        "        A[1,5] = -temp_a\n",
        "        b[1] = P - temp_L\n",
        "        \n",
        "        # First integral\n",
        "        temp_K = 2*Cthth[1]*(gamma+(zeta_1-zeta_tilde-kappa*C0)*(Css[1]+Cthth[1])+kappa/2 * (Css[1]+Cthth[1])**2 + Css[1]*(2*zeta_tilde+kappa*C0 \\\n",
        "                -kappa*(Css[1]+Cthth[1]))) - 2*christ[1]*kappa*(dsCss+christ[1]*(Css[1]-Cthth[1]))\n",
        "        \n",
        "        A[2,1] = (temp_f-temp_d)\n",
        "        A[2,2] = temp_nu\n",
        "        A[2,3] = temp_e\n",
        "        A[2,5] = -temp_d\n",
        "        b[2] = P-temp_K\n",
        "        \n",
        "    # second point\n",
        "    if i == 2:\n",
        "        # Normal force balance\n",
        "        dsCss = 1/(12*ds)*Css[i-2] - 2/(3*ds)*Css[i-1] + 2/(3*ds)*Css[i+1] -1/(12*ds)*Css[i+2]\n",
        "        dsdsCss = -1/(12*ds**2)*Css[i-2] + 4/(3*ds**2)*Css[i-1] - 5/(2*ds**2)*Css[i] + 4/(3*ds**2)*Css[i+1] - 1/(12*ds**2)*Css[i+2]\n",
        "        temp_L = ((Css[i]+Cthth[i])*(zeta_1+zeta_tilde) + gamma)*(Css[i]+Cthth[i]) - Css[i]*Cthth[i]*(4*zeta_tilde+2*kappa*C0) \\\n",
        "                - kappa/2 * (Css[i]+Cthth[i])*(Css[i]-Cthth[i])**2 - kappa*((dsdsCss+((Cthth[i]-Css[i])*(christ[i]**2+Css[i]*Cthth[i]) \\\n",
        "                +christ[i]*dsCss))+christ[i]*(dsCss+christ[i]*(Css[i]-Cthth[i])))\n",
        "        A[2*i-1,2*i-3] = -temp_b \n",
        "        A[2*i-1,2*i-1] = temp_c\n",
        "        A[2*i-1,2*i] = temp_mu\n",
        "        A[2*i-1,2*i+1] = temp_b\n",
        "        A[2*i-1,2*i+3] = -temp_a\n",
        "        b[2*i-1] = P-temp_L\n",
        "        \n",
        "        # First integral\n",
        "        temp_K = 2*Cthth[i]*(gamma+(zeta_1-zeta_tilde-kappa*C0)*(Css[i]+Cthth[i])+kappa/2 * (Css[i]+Cthth[i])**2 + Css[i]*(2*zeta_tilde+kappa*C0 \\\n",
        "                -kappa*(Css[i]+Cthth[i]))) - 2*christ[i]*kappa*(dsCss+christ[i]*(Css[i]-Cthth[i]))\n",
        "        \n",
        "        A[2*i,2*i-3] = -temp_e\n",
        "        A[2*i,2*i-1] = temp_f\n",
        "        A[2*i,2*i] = temp_nu\n",
        "        A[2*i,2*i+1] = temp_e\n",
        "        A[2*i,2*i+3] = -temp_d\n",
        "        b[2*i] = P-temp_K\n",
        "        \n",
        "    # points between the two poles, which are not \"affected\" by the pole\n",
        "    if (i > 2) and (i <= N-4):\n",
        "        # Normal force balance\n",
        "        dsCss = 1/(12*ds)*Css[i-2] - 2/(3*ds)*Css[i-1] + 2/(3*ds)*Css[i+1] -1/(12*ds)*Css[i+2]\n",
        "        dsdsCss = -1/(12*ds**2)*Css[i-2] + 4/(3*ds**2)*Css[i-1] - 5/(2*ds**2)*Css[i] + 4/(3*ds**2)*Css[i+1] - 1/(12*ds**2)*Css[i+2]\n",
        "        temp_L = ((Css[i]+Cthth[i])*(zeta_1+zeta_tilde) + gamma)*(Css[i]+Cthth[i]) - Css[i]*Cthth[i]*(4*zeta_tilde+2*kappa*C0) \\\n",
        "                - kappa/2 * (Css[i]+Cthth[i])*(Css[i]-Cthth[i])**2 - kappa*((dsdsCss+((Cthth[i]-Css[i])*(christ[i]**2+Css[i]*Cthth[i]) \\\n",
        "                +christ[i]*dsCss))+christ[i]*(dsCss+christ[i]*(Css[i]-Cthth[i])))     \n",
        "        A[2*i-1,2*i-5] = temp_a\n",
        "        A[2*i-1,2*i-3] = -temp_b \n",
        "        A[2*i-1,2*i-1] = temp_c\n",
        "        A[2*i-1,2*i] = temp_mu\n",
        "        A[2*i-1,2*i+1] = temp_b\n",
        "        A[2*i-1,2*i+3] = -temp_a\n",
        "        b[2*i-1] = P-temp_L\n",
        "        \n",
        "        # First integral\n",
        "        temp_K = 2*Cthth[i]*(gamma+(zeta_1-zeta_tilde-kappa*C0)*(Css[i]+Cthth[i])+kappa/2 * (Css[i]+Cthth[i])**2 + Css[i]*(2*zeta_tilde+kappa*C0 \\\n",
        "                -kappa*(Css[i]+Cthth[i]))) - 2*christ[i]*kappa*(dsCss+christ[i]*(Css[i]-Cthth[i]))\n",
        "        \n",
        "        A[2*i,2*i-5] = temp_d\n",
        "        A[2*i,2*i-3] = -temp_e\n",
        "        A[2*i,2*i-1] = temp_f\n",
        "        A[2*i,2*i] = temp_nu\n",
        "        A[2*i,2*i+1] = temp_e\n",
        "        A[2*i,2*i+3] = -temp_d\n",
        "        b[2*i] = P-temp_K\n",
        "        \n",
        "    # two points before the last pole    \n",
        "    if i == N-3:\n",
        "        # Normal force balance\n",
        "        dsCss = 1/(12*ds)*Css[i-2] - 2/(3*ds)*Css[i-1] + 2/(3*ds)*Css[i+1] -1/(12*ds)*Css[i+2]\n",
        "        dsdsCss = -1/(12*ds**2)*Css[i-2] + 4/(3*ds**2)*Css[i-1] - 5/(2*ds**2)*Css[i] + 4/(3*ds**2)*Css[i+1] - 1/(12*ds**2)*Css[i+2]\n",
        "        temp_L = ((Css[i]+Cthth[i])*(zeta_1+zeta_tilde) + gamma)*(Css[i]+Cthth[i]) - Css[i]*Cthth[i]*(4*zeta_tilde+2*kappa*C0) \\\n",
        "                - kappa/2 * (Css[i]+Cthth[i])*(Css[i]-Cthth[i])**2 - kappa*((dsdsCss+((Cthth[i]-Css[i])*(christ[i]**2+Css[i]*Cthth[i]) \\\n",
        "                +christ[i]*dsCss))+christ[i]*(dsCss+christ[i]*(Css[i]-Cthth[i])))      \n",
        "        A[2*i-1,2*i-5] = temp_a\n",
        "        A[2*i-1,2*i-3] = -temp_b \n",
        "        A[2*i-1,2*i-1] = temp_c\n",
        "        A[2*i-1,2*i] = temp_mu\n",
        "        A[2*i-1,2*i+1] = temp_b\n",
        "        b[2*i-1] = P-temp_L\n",
        "        \n",
        "        # First integral\n",
        "        temp_K = 2*Cthth[i]*(gamma+(zeta_1-zeta_tilde-kappa*C0)*(Css[i]+Cthth[i])+kappa/2 * (Css[i]+Cthth[i])**2 + Css[i]*(2*zeta_tilde+kappa*C0 \\\n",
        "                -kappa*(Css[i]+Cthth[i]))) - 2*christ[i]*kappa*(dsCss+christ[i]*(Css[i]-Cthth[i]))\n",
        "        \n",
        "        A[2*i,2*i-5] = temp_d\n",
        "        A[2*i,2*i-3] = -temp_e\n",
        "        A[2*i,2*i-1] = temp_f\n",
        "        A[2*i,2*i] = temp_nu\n",
        "        A[2*i,2*i+1] = temp_e\n",
        "        b[2*i] = P-temp_K        \n",
        "    # one point before the last pole\n",
        "    if i == N-2:\n",
        "        # Normal force balance\n",
        "        dsCss = 1/(12*ds)*Css[i-2] - 2/(3*ds)*Css[i-1] + 2/(3*ds)*Css[i+1] -1/(12*ds)*Css_ghost[2]\n",
        "        dsdsCss = -1/(12*ds**2)*Css[i-2] + 4/(3*ds**2)*Css[i-1] - 5/(2*ds**2)*Css[i] + 4/(3*ds**2)*Css[i+1] - 1/(12*ds**2)*Css_ghost[2]\n",
        "        temp_L = ((Css[i]+Cthth[i])*(zeta_1+zeta_tilde) + gamma)*(Css[i]+Cthth[i]) - Css[i]*Cthth[i]*(4*zeta_tilde+2*kappa*C0) \\\n",
        "                - kappa/2 * (Css[i]+Cthth[i])*(Css[i]-Cthth[i])**2 - kappa*((dsdsCss+((Cthth[i]-Css[i])*(christ[i]**2+Css[i]*Cthth[i]) \\\n",
        "                +christ[i]*dsCss))+christ[i]*(dsCss+christ[i]*(Css[i]-Cthth[i])))\n",
        "                \n",
        "        A[2*i-1,2*i-5] = temp_a\n",
        "        A[2*i-1,2*i-3] = -temp_b \n",
        "        A[2*i-1,2*i-1] = temp_c-temp_a\n",
        "        A[2*i-1,2*i] = temp_mu\n",
        "        b[2*i-1] = P-temp_L\n",
        "        \n",
        "        # First integral\n",
        "        temp_K = 2*Cthth[i]*(gamma+(zeta_1-zeta_tilde-kappa*C0)*(Css[i]+Cthth[i])+kappa/2 * (Css[i]+Cthth[i])**2 + Css[i]*(2*zeta_tilde+kappa*C0 \\\n",
        "                -kappa*(Css[i]+Cthth[i]))) - 2*christ[i]*kappa*(dsCss+christ[i]*(Css[i]-Cthth[i]))\n",
        "        \n",
        "        A[2*i,2*i-5] = temp_d\n",
        "        A[2*i,2*i-3] = -temp_e\n",
        "        A[2*i,2*i-1] = temp_f-temp_d\n",
        "        A[2*i,2*i] = temp_nu\n",
        "        b[2*i] = P-temp_K\n",
        "        \n",
        "        \n",
        "    # for the second pole\n",
        "    if i == N-1:\n",
        "        A[2*i-1,0] = 1\n",
        "        A[2*i-1,2*i-1] = -1\n",
        "\n",
        "x = np.linalg.solve(A,b)\n",
        "\n",
        "# upper line: v_n, lower line: v_s\n",
        "v_n = x[::2] #select every other point to extract v_n from x\n",
        "v_n = np.append(v_n, x[-1])\n",
        "v_s = np.zeros(N)   # at the poles v_s is 0\n",
        "v_s[1:len(v_s)-1] = x[1:len(x)-2:2] #select every other point to extract v_s from x\n",
        "plt.scatter(np.arange(0,N),vs_example)\n",
        "plt.scatter(np.arange(0,len(v_n)),v_n)\n",
        "plt.scatter(np.arange(0,len(v_s)),v_s)\n",
        "plt.legend([\"vs given\", \"vn sim\", \"vs sim\"], loc =\"upper left\")"
      ],
      "execution_count": 0,
      "outputs": [
        {
          "output_type": "execute_result",
          "data": {
            "text/plain": [
              "<matplotlib.legend.Legend at 0x7f98f9423b00>"
            ]
          },
          "metadata": {
            "tags": []
          },
          "execution_count": 6
        },
        {
          "output_type": "display_data",
          "data": {
            "image/png": "[encoded data removed]",
            "text/plain": [
              "<Figure size 432x288 with 1 Axes>"
            ]
          },
          "metadata": {
            "tags": [],
            "needs_background": "light"
          }
        }
      ]
    },
    {
      "cell_type": "code",
      "metadata": {
        "id": "qoozC7rVntZe",
        "colab_type": "code",
        "outputId": "255dd4ed-b85e-4601-8a5e-50e4f4ba3af2",
        "colab": {
          "base_uri": "https://localhost:8080/",
          "height": 34
        }
      },
      "source": [
        "#Solving simple linear system\n",
        "import numpy as np\n",
        "\n",
        "# define matrix A using Numpy arrays\n",
        "A = np.array([[2, 1, 1],\n",
        "              [1, 3, 2],\n",
        "              [1, 0, 0]]) \n",
        "#define matrix B\n",
        "B = np.array([4, 10, 8]) \n",
        "#solve using np.linalg.solve\n",
        "Solution = np.linalg.solve(A, B ) \n",
        "\n",
        "print(Solution)"
      ],
      "execution_count": 0,
      "outputs": [
        {
          "output_type": "stream",
          "text": [
            "[  8.  26. -38.]\n"
          ],
          "name": "stdout"
        }
      ]
    },
    {
      "cell_type": "code",
      "metadata": {
        "id": "E9gxPs5JnuMX",
        "colab_type": "code",
        "outputId": "53c16ed0-5097-475c-fdf1-027ae28d3c06",
        "colab": {
          "base_uri": "https://localhost:8080/",
          "height": 279
        }
      },
      "source": [
        "#Solving a simple ODE using odeint\n",
        "import numpy as np\n",
        "from scipy.integrate import odeint\n",
        "import matplotlib.pyplot as plt\n",
        "\n",
        "#Define constants\n",
        "k = np.array([.1,.2,.3,.4])\n",
        "y0 = 5\n",
        "t = np.linspace(0,20,100)\n",
        "solution = np.array([])\n",
        "\n",
        "#define function\n",
        "def model(y,t, k):\n",
        "  k=k\n",
        "  dydt=-k*y\n",
        "  return dydt\n",
        "\n",
        "#Solve ODE using different values of k\n",
        "for i in k:\n",
        "  y = odeint(model,y0,t, args=(i,))\n",
        "  solution = np.vstack(y)\n",
        "  label = 'k = %.1f'%i\n",
        "  plt.plot(t,solution, label = label)\n",
        "\n",
        "plt.xlabel('t')\n",
        "plt.ylabel('y(t)')\n",
        "plt.legend(loc=\"upper right\")\n",
        "plt.show()"
      ],
      "execution_count": 0,
      "outputs": [
        {
          "output_type": "display_data",
          "data": {
            "image/png": "[encoded data removed]",
            "text/plain": [
              "<Figure size 432x288 with 1 Axes>"
            ]
          },
          "metadata": {
            "tags": [],
            "needs_background": "light"
          }
        }
      ]
    }
  ]
}